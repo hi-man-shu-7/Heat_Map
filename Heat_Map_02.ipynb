{
 "cells": [
  {
   "cell_type": "code",
   "execution_count": null,
   "id": "345dd9a1",
   "metadata": {},
   "outputs": [],
   "source": [
    "from sklearn.feature_extraction.text import CountVectorizer\n",
    "from sklearn.metrics.pairwise import cosine_similarity\n",
    "import seaborn as sns\n",
    "import matplotlib.pyplot as plt\n",
    "\n",
    "# Sample medical transcripts (replace with your actual transcripts)\n",
    "medical_transcripts = [\n",
    "    \"Patient presented with symptoms of cough and shortness of breath.\",\n",
    "    \"Physical examination revealed elevated temperature and wheezing.\",\n",
    "    \"Diagnosis confirmed as bronchitis, prescribed antibiotics and inhaler.\",\n",
    "    \"Patient complains of chest pain and difficulty breathing.\",\n",
    "    \"Lab results indicate high levels of inflammation.\",\n",
    "    \"Treatment plan includes rest, hydration, and pain management.\",\n",
    "    \"Patient discharged with instructions to follow up in one week.\",\n",
    "    \"Patient history includes hypertension and diabetes.\",\n",
    "    \"X-ray shows signs of pneumonia in the left lung.\",\n",
    "    \"Administered IV fluids and antibiotics.\",\n",
    "    \"Scheduled for follow-up appointment with primary care physician.\",\n",
    "    \"Family history of heart disease and asthma.\",\n",
    "    \"Performed ECG to monitor heart function.\",\n",
    "    \"Patient referred to cardiologist for further evaluation.\",\n",
    "    \"Recommend lifestyle changes and medication adherence.\"\n",
    "]\n",
    "\n",
    "# Convert transcripts into n-grams\n",
    "ngram_range = (2, 3)  # Adjust as needed\n",
    "vectorizer = CountVectorizer(analyzer='word', ngram_range=ngram_range)\n",
    "X = vectorizer.fit_transform(medical_transcripts)\n",
    "\n",
    "# Calculate cosine similarity between n-grams\n",
    "cosine_sim = cosine_similarity(X.T, X.T)\n",
    "\n",
    "# Plot the heatmap\n",
    "plt.figure(figsize=(10, 8))\n",
    "sns.heatmap(cosine_sim, annot=True, cmap='YlGnBu', xticklabels=vectorizer.get_feature_names_out(), yticklabels=vectorizer.get_feature_names_out())\n",
    "plt.title('Cosine Similarity between N-grams in Medical Transcripts')\n",
    "plt.xlabel('N-grams')\n",
    "plt.ylabel('N-grams')\n",
    "plt.xticks(rotation=45, ha='right')\n",
    "plt.yticks(rotation=0)\n",
    "plt.tight_layout()\n",
    "plt.show()\n"
   ]
  },
  {
   "cell_type": "code",
   "execution_count": null,
   "id": "fb7d7a2c",
   "metadata": {},
   "outputs": [],
   "source": []
  }
 ],
 "metadata": {
  "kernelspec": {
   "display_name": "Python 3 (ipykernel)",
   "language": "python",
   "name": "python3"
  },
  "language_info": {
   "codemirror_mode": {
    "name": "ipython",
    "version": 3
   },
   "file_extension": ".py",
   "mimetype": "text/x-python",
   "name": "python",
   "nbconvert_exporter": "python",
   "pygments_lexer": "ipython3",
   "version": "3.11.4"
  }
 },
 "nbformat": 4,
 "nbformat_minor": 5
}
